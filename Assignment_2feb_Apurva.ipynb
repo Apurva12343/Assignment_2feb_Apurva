{
 "cells": [
  {
   "cell_type": "code",
   "execution_count": 1,
   "id": "ab8fda9d-9f04-4b3b-a4b9-4ea64ec94b66",
   "metadata": {},
   "outputs": [],
   "source": [
    " #1. Explain with an example each when to use a for loop and a while loop. "
   ]
  },
  {
   "cell_type": "code",
   "execution_count": 2,
   "id": "49f26540-f1c9-4cfd-b151-100aefa3b127",
   "metadata": {},
   "outputs": [
    {
     "name": "stdout",
     "output_type": "stream",
     "text": [
      "0\n",
      "1\n",
      "2\n",
      "3\n",
      "4\n",
      "5\n",
      "0\n",
      "1\n",
      "2\n",
      "3\n",
      "4\n",
      "5\n"
     ]
    }
   ],
   "source": [
    "# A for loop is used when we know the number of iterations required in advance.\n",
    "#example\n",
    "for i in range(0,6):\n",
    "    print(i)\n",
    "    \n",
    "#A while loop is used when we don't know the number of iterations required in advance.\n",
    "# example\n",
    "count = 0\n",
    "while count <= 5:\n",
    "    print(count)\n",
    "    count += 1"
   ]
  },
  {
   "cell_type": "code",
   "execution_count": 3,
   "id": "906daffa-24ab-4ce3-8840-3205fb245d2c",
   "metadata": {},
   "outputs": [],
   "source": [
    " #2. Write a python program to print the sum and product of the first 10 natural numbers using for  and while loop. "
   ]
  },
  {
   "cell_type": "code",
   "execution_count": 4,
   "id": "15317f38-4985-4767-8001-161c776ade6f",
   "metadata": {},
   "outputs": [
    {
     "name": "stdout",
     "output_type": "stream",
     "text": [
      "55\n",
      "3628800\n",
      "55\n",
      "3628800\n"
     ]
    }
   ],
   "source": [
    "# using for loop\n",
    "add = 0\n",
    "product = 1\n",
    "for i in range(1,11):\n",
    "    add += i\n",
    "    product *= i\n",
    "print(add)\n",
    "print(product)\n",
    "\n",
    "#using while loop\n",
    "add = 0\n",
    "product = 1\n",
    "i = 1\n",
    "while i <=10:\n",
    "    add += i\n",
    "    product *= i\n",
    "    i +=1\n",
    "print(add)\n",
    "print(product)"
   ]
  },
  {
   "cell_type": "code",
   "execution_count": 5,
   "id": "d315086f-9902-4a32-9c73-aea874ade7ff",
   "metadata": {},
   "outputs": [
    {
     "name": "stdout",
     "output_type": "stream",
     "text": [
      "55\n",
      "3628800\n"
     ]
    }
   ],
   "source": [
    "#using while loop\n",
    "add = 0\n",
    "product = 1\n",
    "i = 1\n",
    "while i <=10:\n",
    "    add += i\n",
    "    product *= i\n",
    "    i +=1\n",
    "print(add)\n",
    "print(product)"
   ]
  },
  {
   "cell_type": "code",
   "execution_count": 6,
   "id": "55cb0ca9-725b-455e-b2f7-271295f64f4b",
   "metadata": {
    "tags": []
   },
   "outputs": [],
   "source": [
    "#3. Create a python program to compute the electricity bill for a household. \n",
    "# The per-unit charges in rupees are as follows: For the first 100 units, the user will be charged Rs. 4.5 per  unit, for the next 100 units, the user will be charged Rs. 6 per unit, and for the next 100 units, the user will  be charged Rs. 10 per unit, After 300 units and above the user will be charged Rs. 20 per unit. \n",
    "# You are required to take the units of electricity consumed in a month from the user as input. \n",
    "# Your program must pass this test case: when the unit of electricity consumed by the user in a month is  310, the total electricity bill should be 2250."
   ]
  },
  {
   "cell_type": "code",
   "execution_count": 7,
   "id": "2c3fa768-b5e3-493e-b084-6bfdb068f832",
   "metadata": {},
   "outputs": [
    {
     "name": "stdin",
     "output_type": "stream",
     "text": [
      "Enter unit of electricity consumed 310\n"
     ]
    },
    {
     "name": "stdout",
     "output_type": "stream",
     "text": [
      "Total electricity bill: 2250.0 rupees\n"
     ]
    }
   ],
   "source": [
    "unit = int(input(\"Enter unit of electricity consumed\"))\n",
    "if unit <= 100:\n",
    "    bill = unit * 4.5\n",
    "elif unit <= 200:\n",
    "    bill = 100 * 4.5 + (100 - unit)*6\n",
    "elif unit <=300:\n",
    "    bill = 100 * 4.5 + 100 * 6 + (100 - unit)*10\n",
    "else:\n",
    "    bill = 100 * 4.5 + 100 * 6 + 100 * 10 + (unit - 300)*20\n",
    "print(\"Total electricity bill:\", bill, \"rupees\")"
   ]
  },
  {
   "cell_type": "code",
   "execution_count": 8,
   "id": "16af094b-c28e-438e-9e9f-52783833817b",
   "metadata": {},
   "outputs": [],
   "source": [
    "# 4.Create a list of numbers from 1 to 100. Use for loop and while loop to calculate the cube of each  number and if the cube of that number is divisible by 4 or 5 then append that number in a list and print  that list. "
   ]
  },
  {
   "cell_type": "code",
   "execution_count": 9,
   "id": "4e93d129-ee1a-4355-bc31-4b4e45b18dd3",
   "metadata": {},
   "outputs": [
    {
     "data": {
      "text/plain": [
       "[8,\n",
       " 64,\n",
       " 125,\n",
       " 216,\n",
       " 512,\n",
       " 1000,\n",
       " 1728,\n",
       " 2744,\n",
       " 3375,\n",
       " 4096,\n",
       " 5832,\n",
       " 8000,\n",
       " 10648,\n",
       " 13824,\n",
       " 15625,\n",
       " 17576,\n",
       " 21952,\n",
       " 27000,\n",
       " 32768,\n",
       " 39304,\n",
       " 42875,\n",
       " 46656,\n",
       " 54872,\n",
       " 64000,\n",
       " 74088,\n",
       " 85184,\n",
       " 91125,\n",
       " 97336,\n",
       " 110592,\n",
       " 125000,\n",
       " 140608,\n",
       " 157464,\n",
       " 166375,\n",
       " 175616,\n",
       " 195112,\n",
       " 216000,\n",
       " 238328,\n",
       " 262144,\n",
       " 274625,\n",
       " 287496,\n",
       " 314432,\n",
       " 343000,\n",
       " 373248,\n",
       " 405224,\n",
       " 421875,\n",
       " 438976,\n",
       " 474552,\n",
       " 512000,\n",
       " 551368,\n",
       " 592704,\n",
       " 614125,\n",
       " 636056,\n",
       " 681472,\n",
       " 729000,\n",
       " 778688,\n",
       " 830584,\n",
       " 857375,\n",
       " 884736,\n",
       " 941192]"
      ]
     },
     "execution_count": 9,
     "metadata": {},
     "output_type": "execute_result"
    }
   ],
   "source": [
    "#using For loop\n",
    "n = []\n",
    "for i in range(1,100):\n",
    "    i = i*i*i\n",
    "    if i%4==0 or i%5==0:\n",
    "        n.append(i)\n",
    "n        "
   ]
  },
  {
   "cell_type": "code",
   "execution_count": 10,
   "id": "e39f0ef1-cfda-41de-948b-ea1f79db02a7",
   "metadata": {},
   "outputs": [
    {
     "data": {
      "text/plain": [
       "[8,\n",
       " 64,\n",
       " 125,\n",
       " 216,\n",
       " 512,\n",
       " 1000,\n",
       " 1728,\n",
       " 2744,\n",
       " 3375,\n",
       " 4096,\n",
       " 5832,\n",
       " 8000,\n",
       " 10648,\n",
       " 13824,\n",
       " 15625,\n",
       " 17576,\n",
       " 21952,\n",
       " 27000,\n",
       " 32768,\n",
       " 39304,\n",
       " 42875,\n",
       " 46656,\n",
       " 54872,\n",
       " 64000,\n",
       " 74088,\n",
       " 85184,\n",
       " 91125,\n",
       " 97336,\n",
       " 110592,\n",
       " 125000,\n",
       " 140608,\n",
       " 157464,\n",
       " 166375,\n",
       " 175616,\n",
       " 195112,\n",
       " 216000,\n",
       " 238328,\n",
       " 262144,\n",
       " 274625,\n",
       " 287496,\n",
       " 314432,\n",
       " 343000,\n",
       " 373248,\n",
       " 405224,\n",
       " 421875,\n",
       " 438976,\n",
       " 474552,\n",
       " 512000,\n",
       " 551368,\n",
       " 592704,\n",
       " 614125,\n",
       " 636056,\n",
       " 681472,\n",
       " 729000,\n",
       " 778688,\n",
       " 830584,\n",
       " 857375,\n",
       " 884736,\n",
       " 941192,\n",
       " 1000000]"
      ]
     },
     "execution_count": 10,
     "metadata": {},
     "output_type": "execute_result"
    }
   ],
   "source": [
    "#using while loop\n",
    "numbers = []\n",
    "i = 1\n",
    "\n",
    "while i <= 100:\n",
    "    cube = i*i*i\n",
    "    if cube%4==0 or cube%5==0:\n",
    "        numbers.append(cube)\n",
    "    \n",
    "    i += 1\n",
    "numbers"
   ]
  },
  {
   "cell_type": "code",
   "execution_count": 11,
   "id": "ba85332c-01a0-4b9b-8bcc-ac58671761f7",
   "metadata": {},
   "outputs": [],
   "source": [
    "# 5.Write a program to filter count vowels in the below-given string. \n",
    "# string = \"I want to become a data scientist\" \n"
   ]
  },
  {
   "cell_type": "code",
   "execution_count": 12,
   "id": "462b689a-6fe5-4e77-88f4-2d344d6ad43c",
   "metadata": {},
   "outputs": [
    {
     "name": "stdout",
     "output_type": "stream",
     "text": [
      "Number of vowels: 12\n"
     ]
    }
   ],
   "source": [
    "string = \"I want to become a data scientist\"\n",
    "vowels = \"AEIOUaeiou\"\n",
    "count = 0\n",
    "\n",
    "for char in string:\n",
    "    if char in vowels:\n",
    "        count += 1\n",
    "\n",
    "print(\"Number of vowels:\", count)"
   ]
  }
 ],
 "metadata": {
  "kernelspec": {
   "display_name": "Python 3 (ipykernel)",
   "language": "python",
   "name": "python3"
  },
  "language_info": {
   "codemirror_mode": {
    "name": "ipython",
    "version": 3
   },
   "file_extension": ".py",
   "mimetype": "text/x-python",
   "name": "python",
   "nbconvert_exporter": "python",
   "pygments_lexer": "ipython3",
   "version": "3.10.6"
  }
 },
 "nbformat": 4,
 "nbformat_minor": 5
}
